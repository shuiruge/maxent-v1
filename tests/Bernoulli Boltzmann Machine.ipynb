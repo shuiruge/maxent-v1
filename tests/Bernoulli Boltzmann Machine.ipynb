{
 "cells": [
  {
   "cell_type": "markdown",
   "metadata": {},
   "source": [
    "# Build and Train"
   ]
  },
  {
   "cell_type": "code",
   "execution_count": null,
   "metadata": {},
   "outputs": [],
   "source": [
    "import tensorflow as tf\n",
    "from maxent.data.mnist import load_mnist\n",
    "from maxent.boltzmann.base import State, train\n",
    "from maxent.boltzmann.bernoulli import (\n",
    "    BernoulliBoltzmannMachine, HintonInitializer, LogInternalInformation,\n",
    "    initialize_fantasy_state, get_reconstruction_error, EmptyConnections,\n",
    "    DenseConnections)\n",
    "from maxent.utils import get_random_connections\n",
    "\n",
    "IMAGE_SIZE = (16, 16)\n",
    "SEED = 42\n",
    "\n",
    "tf.random.set_seed(SEED)"
   ]
  },
  {
   "cell_type": "code",
   "execution_count": null,
   "metadata": {
    "tags": []
   },
   "outputs": [],
   "source": [
    "(X, y), _ = load_mnist(image_size=IMAGE_SIZE, binarize=True,\n",
    "                       minval=0, maxval=1)\n",
    "\n",
    "ambient_size = IMAGE_SIZE[0] * IMAGE_SIZE[1]\n",
    "latent_size = 64\n",
    "batch_size = 128\n",
    "epochs = 30\n",
    "dataset = tf.data.Dataset.from_tensor_slices(X)\n",
    "dataset = dataset.shuffle(10000).repeat(epochs).batch(batch_size)\n",
    "bm = BernoulliBoltzmannMachine(\n",
    "    ambient_size=ambient_size,\n",
    "    latent_size=latent_size,\n",
    "    initializer=HintonInitializer(X),\n",
    "    max_step=100,\n",
    "    tolerance=1e-1,\n",
    "    ambient_ambient_connections=EmptyConnections(),\n",
    "    ambient_latent_connections=(\n",
    "        get_random_connections(ambient_size, latent_size, 10)),\n",
    "    # latent_latent_connections=(\n",
    "    #     get_random_connections(latent_size, latent_size, 10)),\n",
    "    latent_latent_connections=DenseConnections(),\n",
    "    # sync_ratio=0.25,\n",
    "    seed=SEED,\n",
    ")\n",
    "fantasy_state = initialize_fantasy_state(bm, batch_size, SEED)\n",
    "optimizer = tf.optimizers.Adam()\n",
    "callbacks = [LogInternalInformation(bm, log_step=100, verbose=True)]\n",
    "fantasy_state = train(bm, optimizer, dataset, fantasy_state, callbacks=callbacks)"
   ]
  },
  {
   "cell_type": "code",
   "execution_count": null,
   "metadata": {},
   "outputs": [],
   "source": [
    "get_reconstruction_error(bm, X[:5000])"
   ]
  },
  {
   "cell_type": "markdown",
   "metadata": {},
   "source": [
    "# Visualize the Latent"
   ]
  },
  {
   "cell_type": "code",
   "execution_count": null,
   "metadata": {},
   "outputs": [],
   "source": [
    "from sklearn.manifold import TSNE\n",
    "from maxent.boltzmann.base import relax_ambient\n",
    "\n",
    "def get_relaxed_latent_projection(\n",
    "        bm, ambient, max_step=100, tolerance=1e-1):\n",
    "    relaxed_state, _ = relax_ambient(bm, ambient, max_step, tolerance)\n",
    "    projection = TSNE().fit_transform(relaxed_state.latent)\n",
    "    return projection"
   ]
  },
  {
   "cell_type": "code",
   "execution_count": null,
   "metadata": {},
   "outputs": [],
   "source": [
    "import numpy as np\n",
    "import matplotlib.pyplot as plt\n",
    "\n",
    "labels = {1, 2, 3, 4}\n",
    "X_in_labels, y_in_labels = [], []\n",
    "for xi, yi in zip(X, y):\n",
    "    yi = np.argmax(yi)  # y is one-hot encoded.\n",
    "    if yi in labels:\n",
    "        X_in_labels.append(xi)\n",
    "        y_in_labels.append(yi)\n",
    "    if len(X_in_labels) == 1000:\n",
    "      break\n",
    "\n",
    "Z = get_relaxed_latent_projection(bm, np.array(X_in_labels))\n",
    "plt.scatter(Z[:, 0], Z[:, 1], c=y_in_labels, alpha=0.2)\n",
    "plt.show()"
   ]
  },
  {
   "cell_type": "markdown",
   "metadata": {},
   "source": [
    "# Pruning"
   ]
  },
  {
   "cell_type": "code",
   "execution_count": null,
   "metadata": {},
   "outputs": [],
   "source": [
    "from maxent.boltzmann.base import quantize\n",
    "\n",
    "qbm = quantize(bm, 1e-1)\n",
    "get_reconstruction_error(qbm, X[:5000])"
   ]
  },
  {
   "cell_type": "code",
   "execution_count": null,
   "metadata": {},
   "outputs": [],
   "source": [
    "qZ = get_relaxed_latent_projection(qbm, np.array(X_in_labels))\n",
    "plt.scatter(qZ[:, 0], qZ[:, 1], c=y_in_labels, alpha=0.2)\n",
    "plt.show()"
   ]
  },
  {
   "cell_type": "code",
   "execution_count": null,
   "metadata": {},
   "outputs": [],
   "source": [
    "tf.reduce_mean(tf.where(tf.abs(bm.ambient_latent_kernel) > 0, 1., 0.)), \\\n",
    "tf.reduce_mean(tf.where(tf.abs(bm.latent_latent_kernel) > 0, 1., 0.))"
   ]
  },
  {
   "cell_type": "code",
   "execution_count": null,
   "metadata": {},
   "outputs": [],
   "source": [
    "tf.reduce_mean(tf.where(tf.abs(qbm.ambient_latent_kernel) > 0, 1., 0.)), \\\n",
    "tf.reduce_mean(tf.where(tf.abs(qbm.latent_latent_kernel) > 0, 1., 0.))"
   ]
  },
  {
   "cell_type": "code",
   "execution_count": null,
   "metadata": {},
   "outputs": [],
   "source": []
  }
 ],
 "metadata": {
  "kernelspec": {
   "display_name": "Python 3",
   "language": "python",
   "name": "python3"
  },
  "language_info": {
   "codemirror_mode": {
    "name": "ipython",
    "version": 3
   },
   "file_extension": ".py",
   "mimetype": "text/x-python",
   "name": "python",
   "nbconvert_exporter": "python",
   "pygments_lexer": "ipython3",
   "version": "3.7.7"
  }
 },
 "nbformat": 4,
 "nbformat_minor": 2
}
